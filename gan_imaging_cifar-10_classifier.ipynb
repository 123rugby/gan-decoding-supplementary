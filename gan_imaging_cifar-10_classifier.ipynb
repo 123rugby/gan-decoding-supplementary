{
 "cells": [
  {
   "cell_type": "markdown",
   "metadata": {},
   "source": [
    "---\n",
    "# Training of the recognition network that forms the feature extractor of the encoding model\n",
    "---"
   ]
  },
  {
   "cell_type": "code",
   "execution_count": 3,
   "metadata": {},
   "outputs": [],
   "source": [
    "import sys\n",
    "import os\n",
    "import struct\n",
    "import time\n",
    "import numpy as np\n",
    "import h5py\n",
    "import scipy.io as sio\n",
    "from scipy import ndimage as nd\n",
    "from scipy import misc\n",
    "from tqdm import tqdm\n",
    "import pickle\n",
    "import math\n",
    "import matplotlib.pyplot as plt\n",
    "import PIL.Image as pim\n",
    "import seaborn as sns\n",
    "%matplotlib inline\n",
    "\n",
    "import theano\n",
    "import theano.tensor as T\n",
    "\n",
    "import lasagne\n",
    "import lasagne.layers as L\n",
    "import lasagne.regularization as R\n",
    "import lasagne.nonlinearities as NL\n",
    "import lasagne.objectives as O\n",
    "import lasagne.init as I\n",
    "\n",
    "import fwrf.src.numpy_utility as pnu\n",
    "import fwrf.src.lasagne_utility as plu\n",
    "from fwrf.src.load_data import load_stimuli, load_voxels\n",
    "from src.load_images import load_cifar10"
   ]
  },
  {
   "cell_type": "code",
   "execution_count": 4,
   "metadata": {},
   "outputs": [
    {
     "name": "stdout",
     "output_type": "stream",
     "text": [
      "theano floatX: float32\n",
      "numpy floatX: <type 'numpy.float32'>\n"
     ]
    }
   ],
   "source": [
    "fpX = np.float32\n",
    "print \"theano floatX: %s\" % theano.config.floatX\n",
    "print \"numpy floatX: %s\" % fpX\n",
    "\n",
    "sns.axes_style()\n",
    "sns.set_style(\"whitegrid\", {\"axes.facecolor\": '.95'})\n",
    "sns.set_context(\"notebook\", rc={'axes.labelsize': 18.0, 'axes.titlesize': 24.0, 'legend.fontsize': 18.0, 'xtick.labelsize': 18.0, 'ytick.labelsize': 18.0})\n",
    "sns.set_palette(\"deep\")"
   ]
  },
  {
   "cell_type": "code",
   "execution_count": 5,
   "metadata": {},
   "outputs": [
    {
     "name": "stdout",
     "output_type": "stream",
     "text": [
      "Current dir: /home/styvesg/Documents/PostDoc/GitRepo/gan-imaging/\n",
      "Time Stamp: Jul-05-2018_1727\n"
     ]
    }
   ],
   "source": [
    "cwd = os.getcwd() + '/'\n",
    "output_dir  = cwd + \"output/\"\n",
    "if not os.path.exists(output_dir):\n",
    "    os.makedirs(output_dir)\n",
    "timestamp = time.strftime('%b-%d-%Y_%H%M', time.localtime())\n",
    "\n",
    "print \"Current dir: %s\" % cwd\n",
    "print \"Time Stamp: %s\" % timestamp"
   ]
  },
  {
   "cell_type": "code",
   "execution_count": 6,
   "metadata": {
    "collapsed": true
   },
   "outputs": [],
   "source": [
    "saveext = \".pdf\"\n",
    "savearg = {'format':'pdf', 'dpi': 200}"
   ]
  },
  {
   "cell_type": "markdown",
   "metadata": {},
   "source": [
    "# 1) Load CIFAR-10 dataset "
   ]
  },
  {
   "cell_type": "code",
   "execution_count": 7,
   "metadata": {
    "collapsed": true
   },
   "outputs": [],
   "source": [
    "cifar_root = \"/home/styvesg/Documents/PostDoc/Datasets/cifar-10/\""
   ]
  },
  {
   "cell_type": "code",
   "execution_count": 8,
   "metadata": {},
   "outputs": [
    {
     "name": "stdout",
     "output_type": "stream",
     "text": [
      "loading data_batch_1...\n",
      "loading data_batch_2...\n",
      "loading data_batch_3...\n",
      "loading data_batch_4...\n",
      "loading data_batch_5...\n",
      "loading test_batch...\n"
     ]
    }
   ],
   "source": [
    "input_data, label_data, label_map, input_trn_size = load_cifar10(cifar_root)\n",
    "\n",
    "input_data_size = len(input_data)\n",
    "input_trn_size = input_data_size - 500\n",
    "val_size = input_data_size - input_trn_size\n",
    "\n",
    "input_data -= 0.5\n",
    "trn_input_data = input_data[:input_trn_size]\n",
    "val_input_data = input_data[input_trn_size:] \n",
    "\n",
    "trn_label_data = label_data[:input_trn_size]\n",
    "val_label_data = label_data[input_trn_size:]"
   ]
  },
  {
   "cell_type": "code",
   "execution_count": 9,
   "metadata": {},
   "outputs": [
    {
     "name": "stdout",
     "output_type": "stream",
     "text": [
      "-0.5\n",
      "(59500, 3, 32, 32)\n",
      "59500\n"
     ]
    }
   ],
   "source": [
    "print np.min(trn_input_data)\n",
    "print trn_input_data.shape\n",
    "print input_trn_size"
   ]
  },
  {
   "cell_type": "code",
   "execution_count": 10,
   "metadata": {},
   "outputs": [
    {
     "name": "stdout",
     "output_type": "stream",
     "text": [
      "['airplane', 'automobile', 'bird', 'cat', 'deer', 'dog', 'frog', 'horse', 'ship', 'truck']\n"
     ]
    }
   ],
   "source": [
    "print label_map"
   ]
  },
  {
   "cell_type": "code",
   "execution_count": 11,
   "metadata": {},
   "outputs": [
    {
     "name": "stdout",
     "output_type": "stream",
     "text": [
      "3 32 3072 10\n"
     ]
    }
   ],
   "source": [
    "npc = input_data.shape[1]         # # of channels in image\n",
    "npx = input_data.shape[2]         # # of pixels width/height of images \n",
    "nx = npx*npx*npc   # # of dimensions in X\n",
    "ny = len(label_map)   # # of classes\n",
    "print npc, npx, nx, ny"
   ]
  },
  {
   "cell_type": "code",
   "execution_count": 12,
   "metadata": {},
   "outputs": [
    {
     "data": {
      "image/png": "[encoded data removed]",
      "text/plain": [
       "<matplotlib.figure.Figure at 0x7f11df7db2d0>"
      ]
     },
     "metadata": {},
     "output_type": "display_data"
    }
   ],
   "source": [
    "plt.figure(figsize=(10,6))\n",
    "plt.imshow(pnu.mosaic_vis(input_data[:20,...].transpose(0,2,3,1), pad=2), interpolation='None')\n",
    "plt.gca().get_xaxis().set_visible(False)\n",
    "plt.gca().get_yaxis().set_visible(False)"
   ]
  },
  {
   "cell_type": "markdown",
   "metadata": {},
   "source": [
    "# 2)  Define and train the classifier\n",
    "This may not be entirely necessary. There are dozens of trained classification networks out there and we don't need this net to be of the same input size or trained on the same set as we would the GAN"
   ]
  },
  {
   "cell_type": "code",
   "execution_count": 81,
   "metadata": {
    "scrolled": true
   },
   "outputs": [
    {
     "name": "stdout",
     "output_type": "stream",
     "text": [
      "Layer\t: <lasagne.layers.input.InputLayer object at 0x7f11c4109310>\n",
      "Name\t: X\n",
      "Type\t: <class 'lasagne.layers.input.InputLayer'>\n",
      "Shape\t: (None, 3, 32, 32)\n",
      "\n",
      "\n",
      "Layer\t: <lasagne.layers.conv.Conv2DLayer object at 0x7f11c40ff990>\n",
      "Name\t: None\n",
      "Type\t: <class 'lasagne.layers.conv.Conv2DLayer'>\n",
      "Shape\t: (None, 128, 16, 16)\n",
      "Params\n",
      "        |-- W         : (128, 3, 4, 4)\n",
      "        |-- b         : (128,)\n",
      "\n",
      "\n",
      "Layer\t: <lasagne.layers.conv.Conv2DLayer object at 0x7f11c40f57d0>\n",
      "Name\t: None\n",
      "Type\t: <class 'lasagne.layers.conv.Conv2DLayer'>\n",
      "Shape\t: (None, 256, 8, 8)\n",
      "Params\n",
      "        |-- W         : (256, 128, 4, 4)\n",
      "\n",
      "\n",
      "Layer\t: <lasagne.layers.normalization.BatchNormLayer object at 0x7f11c475c6d0>\n",
      "Name\t: None\n",
      "Type\t: <class 'lasagne.layers.normalization.BatchNormLayer'>\n",
      "Shape\t: (None, 256, 8, 8)\n",
      "Params\n",
      "        |-- mean      : (256,)\n",
      "        |-- inv_std   : (256,)\n",
      "\n",
      "\n",
      "Layer\t: <lasagne.layers.conv.Conv2DLayer object at 0x7f11c4003550>\n",
      "Name\t: None\n",
      "Type\t: <class 'lasagne.layers.conv.Conv2DLayer'>\n",
      "Shape\t: (None, 384, 6, 6)\n",
      "Params\n",
      "        |-- W         : (384, 256, 3, 3)\n",
      "\n",
      "\n",
      "Layer\t: <lasagne.layers.normalization.BatchNormLayer object at 0x7f11c4003510>\n",
      "Name\t: None\n",
      "Type\t: <class 'lasagne.layers.normalization.BatchNormLayer'>\n",
      "Shape\t: (None, 384, 6, 6)\n",
      "Params\n",
      "        |-- mean      : (384,)\n",
      "        |-- inv_std   : (384,)\n",
      "\n",
      "\n",
      "Layer\t: <lasagne.layers.conv.Conv2DLayer object at 0x7f11c4003b50>\n",
      "Name\t: None\n",
      "Type\t: <class 'lasagne.layers.conv.Conv2DLayer'>\n",
      "Shape\t: (None, 512, 4, 4)\n",
      "Params\n",
      "        |-- W         : (512, 384, 3, 3)\n",
      "\n",
      "\n",
      "Layer\t: <lasagne.layers.normalization.BatchNormLayer object at 0x7f11c4003b10>\n",
      "Name\t: None\n",
      "Type\t: <class 'lasagne.layers.normalization.BatchNormLayer'>\n",
      "Shape\t: (None, 512, 4, 4)\n",
      "Params\n",
      "        |-- mean      : (512,)\n",
      "        |-- inv_std   : (512,)\n",
      "\n",
      "\n",
      "Layer\t: <lasagne.layers.conv.Conv2DLayer object at 0x7f11c400a190>\n",
      "Name\t: None\n",
      "Type\t: <class 'lasagne.layers.conv.Conv2DLayer'>\n",
      "Shape\t: (None, 1024, 4, 4)\n",
      "Params\n",
      "        |-- W         : (1024, 512, 1, 1)\n",
      "\n",
      "\n",
      "Layer\t: <lasagne.layers.normalization.BatchNormLayer object at 0x7f11c400a150>\n",
      "Name\t: None\n",
      "Type\t: <class 'lasagne.layers.normalization.BatchNormLayer'>\n",
      "Shape\t: (None, 1024, 4, 4)\n",
      "Params\n",
      "        |-- mean      : (1024,)\n",
      "        |-- inv_std   : (1024,)\n",
      "\n",
      "\n",
      "Layer\t: <lasagne.layers.dense.DenseLayer object at 0x7f11c400a810>\n",
      "Name\t: None\n",
      "Type\t: <class 'lasagne.layers.dense.DenseLayer'>\n",
      "Shape\t: (None, 10)\n",
      "Params\n",
      "        |-- W         : (1024, 10)\n",
      "        |-- b         : (10,)\n",
      "\n",
      "\n",
      "128c4s2_256c4s2_384c3_512c3_1024c1_gp_10f\n"
     ]
    }
   ],
   "source": [
    "from net.cifar10_definitions import cls_net, cls_net_str\n",
    "\n",
    "_X = T.tensor4()\n",
    "_Y = T.matrix()\n",
    "\n",
    "cls_input = L.InputLayer(shape=(None, npc, npx, npx), input_var=_X, name='X')\n",
    "aux, cls = cls_net(cls_input)\n",
    "\n",
    "plu.print_lasagne_network(cls, skipnoparam=True)\n",
    "print cls_net_str"
   ]
  },
  {
   "cell_type": "code",
   "execution_count": 82,
   "metadata": {},
   "outputs": [
    {
     "name": "stdout",
     "output_type": "stream",
     "text": [
      "[W, b, W, W, W, W, W, b]\n",
      "COMPILING\n",
      "297.90 seconds to compile theano functions\n"
     ]
    }
   ],
   "source": [
    "_lr = theano.shared(fpX(0.0))\n",
    "_l2 = theano.shared(fpX(0.0))\n",
    "\n",
    "_cls_reg = _l2 * R.regularize_layer_params(cls, R.l2)\n",
    "cls_params = L.get_all_params(cls, trainable=True)\n",
    "print cls_params\n",
    "###\n",
    "_cls_trn_pred = L.get_output(cls, deterministic=False)\n",
    "#_cls_trn_loss = O.squared_error(_cls_trn_pred, Y).mean() + _cls_reg\n",
    "_cls_trn_loss = O.categorical_crossentropy(_cls_trn_pred, _Y).mean() + _cls_reg\n",
    "\n",
    "_cls_val_pred = L.get_output(cls, deterministic=True)\n",
    "_cls_val_loss = O.categorical_crossentropy(_cls_val_pred, _Y).mean()\n",
    "_cls_val_acc = O.categorical_accuracy(_cls_val_pred, _Y, top_k=1).mean()\n",
    "#T.mean(T.eq(T.argmax(_cls_val_pred, axis=1), T.argmax(Y, axis=1)), dtype=theano.config.floatX)\n",
    "\n",
    "_class = T.extra_ops.to_one_hot(T.argmax(_cls_val_pred, axis=1), ny)\n",
    "_fmaps = [L.get_output(a, deterministic=True) for a in aux]\n",
    "\n",
    "cls_updates = lasagne.updates.adam(_cls_trn_loss, cls_params, learning_rate=_lr, beta1=0.5, epsilon=1e-12) \n",
    "\n",
    "print 'COMPILING'\n",
    "t = time.time()\n",
    "cls_trn_fn = theano.function([_X, _Y], [_cls_trn_loss, _cls_val_acc], updates=cls_updates)\n",
    "cls_val_fn = theano.function([_X, _Y], [_cls_val_loss, _cls_val_acc])\n",
    "cls_pred_fn = theano.function([_X], _fmaps+[_class,])\n",
    "print '%.2f seconds to compile theano functions'%(time.time()-t)"
   ]
  },
  {
   "cell_type": "markdown",
   "metadata": {},
   "source": [
    "## Classifier network training"
   ]
  },
  {
   "cell_type": "code",
   "execution_count": 23,
   "metadata": {},
   "outputs": [
    {
     "name": "stderr",
     "output_type": "stream",
     "text": [
      "100it [00:26,  3.76it/s]"
     ]
    },
    {
     "name": "stdout",
     "output_type": "stream",
     "text": [
      "\n",
      "  Epoch 1 of 40 took 26.911s\n",
      "  training loss:       0.480837\n",
      "  validation loss:     0.585736\n",
      "  training accuracy:   88.14 %\n",
      "  validation accuracy: 80.34 %\n"
     ]
    },
    {
     "name": "stderr",
     "output_type": "stream",
     "text": [
      "\n",
      "100it [00:26,  3.88it/s]"
     ]
    },
    {
     "name": "stdout",
     "output_type": "stream",
     "text": [
      "\n",
      "  Epoch 2 of 40 took 26.806s\n",
      "  training loss:       0.472993\n",
      "  validation loss:     0.608267\n",
      "  training accuracy:   89.80 %\n",
      "  validation accuracy: 79.94 %\n"
     ]
    },
    {
     "name": "stderr",
     "output_type": "stream",
     "text": [
      "\n",
      "100it [00:26,  3.84it/s]"
     ]
    },
    {
     "name": "stdout",
     "output_type": "stream",
     "text": [
      "\n",
      "  Epoch 3 of 40 took 26.989s\n",
      "  training loss:       0.459238\n",
      "  validation loss:     0.616793\n",
      "  training accuracy:   90.79 %\n",
      "  validation accuracy: 79.85 %\n"
     ]
    },
    {
     "name": "stderr",
     "output_type": "stream",
     "text": [
      "\n",
      "100it [00:26,  3.87it/s]"
     ]
    },
    {
     "name": "stdout",
     "output_type": "stream",
     "text": [
      "\n",
      "  Epoch 4 of 40 took 26.836s\n",
      "  training loss:       0.458018\n",
      "  validation loss:     0.541495\n",
      "  training accuracy:   90.86 %\n",
      "  validation accuracy: 82.01 %\n"
     ]
    },
    {
     "name": "stderr",
     "output_type": "stream",
     "text": [
      "\n",
      "100it [00:26,  3.84it/s]"
     ]
    },
    {
     "name": "stdout",
     "output_type": "stream",
     "text": [
      "\n",
      "  Epoch 5 of 40 took 26.779s\n",
      "  training loss:       0.454392\n",
      "  validation loss:     0.557194\n",
      "  training accuracy:   90.99 %\n",
      "  validation accuracy: 81.24 %\n"
     ]
    },
    {
     "name": "stderr",
     "output_type": "stream",
     "text": [
      "\n",
      "100it [00:26,  3.84it/s]"
     ]
    },
    {
     "name": "stdout",
     "output_type": "stream",
     "text": [
      "\n",
      "  Epoch 6 of 40 took 26.812s\n",
      "  training loss:       0.442408\n",
      "  validation loss:     0.567626\n",
      "  training accuracy:   91.45 %\n",
      "  validation accuracy: 80.83 %\n"
     ]
    },
    {
     "name": "stderr",
     "output_type": "stream",
     "text": [
      "\n",
      "100it [00:26,  3.85it/s]"
     ]
    },
    {
     "name": "stdout",
     "output_type": "stream",
     "text": [
      "\n",
      "  Epoch 7 of 40 took 26.843s\n",
      "  training loss:       0.435897\n",
      "  validation loss:     0.566084\n",
      "  training accuracy:   91.68 %\n",
      "  validation accuracy: 81.09 %\n"
     ]
    },
    {
     "name": "stderr",
     "output_type": "stream",
     "text": [
      "\n",
      "100it [00:26,  3.86it/s]"
     ]
    },
    {
     "name": "stdout",
     "output_type": "stream",
     "text": [
      "\n",
      "  Epoch 8 of 40 took 26.921s\n",
      "  training loss:       0.427200\n",
      "  validation loss:     0.565376\n",
      "  training accuracy:   92.09 %\n",
      "  validation accuracy: 80.85 %\n"
     ]
    },
    {
     "name": "stderr",
     "output_type": "stream",
     "text": [
      "\n",
      "100it [00:26,  3.85it/s]"
     ]
    },
    {
     "name": "stdout",
     "output_type": "stream",
     "text": [
      "\n",
      "  Epoch 9 of 40 took 27.020s\n",
      "  training loss:       0.422682\n",
      "  validation loss:     0.594782\n",
      "  training accuracy:   92.47 %\n",
      "  validation accuracy: 80.72 %\n"
     ]
    },
    {
     "name": "stderr",
     "output_type": "stream",
     "text": [
      "\n",
      "100it [00:26,  3.78it/s]"
     ]
    },
    {
     "name": "stdout",
     "output_type": "stream",
     "text": [
      "\n",
      "  Epoch 10 of 40 took 26.937s\n",
      "  training loss:       0.412512\n",
      "  validation loss:     0.535231\n",
      "  training accuracy:   92.91 %\n",
      "  validation accuracy: 82.05 %\n"
     ]
    },
    {
     "name": "stderr",
     "output_type": "stream",
     "text": [
      "\n",
      "100it [00:26,  3.81it/s]"
     ]
    },
    {
     "name": "stdout",
     "output_type": "stream",
     "text": [
      "\n",
      "  Epoch 11 of 40 took 26.964s\n",
      "  training loss:       0.404839\n",
      "  validation loss:     0.551433\n",
      "  training accuracy:   92.96 %\n",
      "  validation accuracy: 81.96 %\n"
     ]
    },
    {
     "name": "stderr",
     "output_type": "stream",
     "text": [
      "\n",
      "100it [00:26,  3.83it/s]"
     ]
    },
    {
     "name": "stdout",
     "output_type": "stream",
     "text": [
      "\n",
      "  Epoch 12 of 40 took 27.142s\n",
      "  training loss:       0.404173\n",
      "  validation loss:     0.568194\n",
      "  training accuracy:   93.42 %\n",
      "  validation accuracy: 81.11 %\n"
     ]
    },
    {
     "name": "stderr",
     "output_type": "stream",
     "text": [
      "\n",
      "100it [00:26,  3.79it/s]"
     ]
    },
    {
     "name": "stdout",
     "output_type": "stream",
     "text": [
      "\n",
      "  Epoch 13 of 40 took 27.270s\n",
      "  training loss:       0.385208\n",
      "  validation loss:     0.539126\n",
      "  training accuracy:   93.61 %\n",
      "  validation accuracy: 82.27 %\n"
     ]
    },
    {
     "name": "stderr",
     "output_type": "stream",
     "text": [
      "\n",
      "100it [00:26,  3.79it/s]"
     ]
    },
    {
     "name": "stdout",
     "output_type": "stream",
     "text": [
      "\n",
      "  Epoch 14 of 40 took 27.038s\n",
      "  training loss:       0.368383\n",
      "  validation loss:     0.553293\n",
      "  training accuracy:   94.76 %\n",
      "  validation accuracy: 82.08 %\n"
     ]
    },
    {
     "name": "stderr",
     "output_type": "stream",
     "text": [
      "\n",
      "100it [00:26,  3.78it/s]"
     ]
    },
    {
     "name": "stdout",
     "output_type": "stream",
     "text": [
      "\n",
      "  Epoch 15 of 40 took 26.964s\n",
      "  training loss:       0.343115\n",
      "  validation loss:     0.527688\n",
      "  training accuracy:   95.21 %\n",
      "  validation accuracy: 82.52 %\n"
     ]
    },
    {
     "name": "stderr",
     "output_type": "stream",
     "text": [
      "\n",
      "100it [00:26,  3.86it/s]"
     ]
    },
    {
     "name": "stdout",
     "output_type": "stream",
     "text": [
      "\n",
      "  Epoch 16 of 40 took 26.943s\n",
      "  training loss:       0.331046\n",
      "  validation loss:     0.514987\n",
      "  training accuracy:   95.81 %\n",
      "  validation accuracy: 83.18 %\n"
     ]
    },
    {
     "name": "stderr",
     "output_type": "stream",
     "text": [
      "\n",
      "100it [00:26,  3.85it/s]"
     ]
    },
    {
     "name": "stdout",
     "output_type": "stream",
     "text": [
      "\n",
      "  Epoch 17 of 40 took 26.918s\n",
      "  training loss:       0.318485\n",
      "  validation loss:     0.522257\n",
      "  training accuracy:   96.26 %\n",
      "  validation accuracy: 83.07 %\n"
     ]
    },
    {
     "name": "stderr",
     "output_type": "stream",
     "text": [
      "\n",
      "100it [00:26,  3.84it/s]"
     ]
    },
    {
     "name": "stdout",
     "output_type": "stream",
     "text": [
      "\n",
      "  Epoch 18 of 40 took 26.925s\n",
      "  training loss:       0.303181\n",
      "  validation loss:     0.503879\n",
      "  training accuracy:   96.40 %\n",
      "  validation accuracy: 83.79 %\n"
     ]
    },
    {
     "name": "stderr",
     "output_type": "stream",
     "text": [
      "\n",
      "100it [00:26,  3.72it/s]"
     ]
    },
    {
     "name": "stdout",
     "output_type": "stream",
     "text": [
      "\n",
      "  Epoch 19 of 40 took 27.013s\n",
      "  training loss:       0.296602\n",
      "  validation loss:     0.533449\n",
      "  training accuracy:   96.93 %\n",
      "  validation accuracy: 82.95 %\n"
     ]
    },
    {
     "name": "stderr",
     "output_type": "stream",
     "text": [
      "\n",
      "100it [00:26,  3.78it/s]"
     ]
    },
    {
     "name": "stdout",
     "output_type": "stream",
     "text": [
      "\n",
      "  Epoch 20 of 40 took 26.981s\n",
      "  training loss:       0.288337\n",
      "  validation loss:     0.504990\n",
      "  training accuracy:   97.19 %\n",
      "  validation accuracy: 83.88 %\n"
     ]
    },
    {
     "name": "stderr",
     "output_type": "stream",
     "text": [
      "\n",
      "100it [00:26,  3.82it/s]"
     ]
    },
    {
     "name": "stdout",
     "output_type": "stream",
     "text": [
      "\n",
      "  Epoch 21 of 40 took 26.957s\n",
      "  training loss:       0.278838\n",
      "  validation loss:     0.491878\n",
      "  training accuracy:   97.53 %\n",
      "  validation accuracy: 83.96 %\n"
     ]
    },
    {
     "name": "stderr",
     "output_type": "stream",
     "text": [
      "\n",
      "100it [00:26,  3.79it/s]"
     ]
    },
    {
     "name": "stdout",
     "output_type": "stream",
     "text": [
      "\n",
      "  Epoch 22 of 40 took 27.343s\n",
      "  training loss:       0.266951\n",
      "  validation loss:     0.501672\n",
      "  training accuracy:   97.80 %\n",
      "  validation accuracy: 84.02 %\n"
     ]
    },
    {
     "name": "stderr",
     "output_type": "stream",
     "text": [
      "\n",
      "100it [00:26,  3.85it/s]"
     ]
    },
    {
     "name": "stdout",
     "output_type": "stream",
     "text": [
      "\n",
      "  Epoch 23 of 40 took 26.909s\n",
      "  training loss:       0.263210\n",
      "  validation loss:     0.505271\n",
      "  training accuracy:   97.92 %\n",
      "  validation accuracy: 83.88 %\n"
     ]
    },
    {
     "name": "stderr",
     "output_type": "stream",
     "text": [
      "\n",
      "100it [00:26,  3.81it/s]"
     ]
    },
    {
     "name": "stdout",
     "output_type": "stream",
     "text": [
      "\n",
      "  Epoch 24 of 40 took 26.989s\n",
      "  training loss:       0.259075\n",
      "  validation loss:     0.495569\n",
      "  training accuracy:   98.08 %\n",
      "  validation accuracy: 84.17 %\n"
     ]
    },
    {
     "name": "stderr",
     "output_type": "stream",
     "text": [
      "\n",
      "100it [00:26,  3.76it/s]"
     ]
    },
    {
     "name": "stdout",
     "output_type": "stream",
     "text": [
      "\n",
      "  Epoch 25 of 40 took 27.076s\n",
      "  training loss:       0.251973\n",
      "  validation loss:     0.513756\n",
      "  training accuracy:   98.21 %\n",
      "  validation accuracy: 83.72 %\n"
     ]
    },
    {
     "name": "stderr",
     "output_type": "stream",
     "text": [
      "\n",
      "100it [00:26,  3.76it/s]"
     ]
    },
    {
     "name": "stdout",
     "output_type": "stream",
     "text": [
      "\n",
      "  Epoch 26 of 40 took 27.040s\n",
      "  training loss:       0.247583\n",
      "  validation loss:     0.489776\n",
      "  training accuracy:   98.38 %\n",
      "  validation accuracy: 84.24 %\n"
     ]
    },
    {
     "name": "stderr",
     "output_type": "stream",
     "text": [
      "\n",
      "100it [00:26,  3.83it/s]"
     ]
    },
    {
     "name": "stdout",
     "output_type": "stream",
     "text": [
      "\n",
      "  Epoch 27 of 40 took 27.286s\n",
      "  training loss:       0.242590\n",
      "  validation loss:     0.482062\n",
      "  training accuracy:   98.49 %\n",
      "  validation accuracy: 84.36 %\n"
     ]
    },
    {
     "name": "stderr",
     "output_type": "stream",
     "text": [
      "\n",
      "100it [00:26,  3.80it/s]"
     ]
    },
    {
     "name": "stdout",
     "output_type": "stream",
     "text": [
      "\n",
      "  Epoch 28 of 40 took 26.926s\n",
      "  training loss:       0.240342\n",
      "  validation loss:     0.492320\n",
      "  training accuracy:   98.55 %\n",
      "  validation accuracy: 84.27 %\n"
     ]
    },
    {
     "name": "stderr",
     "output_type": "stream",
     "text": [
      "\n",
      "100it [00:26,  3.85it/s]"
     ]
    },
    {
     "name": "stdout",
     "output_type": "stream",
     "text": [
      "\n",
      "  Epoch 29 of 40 took 27.123s\n",
      "  training loss:       0.229794\n",
      "  validation loss:     0.496075\n",
      "  training accuracy:   98.59 %\n",
      "  validation accuracy: 84.27 %\n"
     ]
    },
    {
     "name": "stderr",
     "output_type": "stream",
     "text": [
      "\n",
      "100it [00:26,  3.82it/s]"
     ]
    },
    {
     "name": "stdout",
     "output_type": "stream",
     "text": [
      "\n",
      "  Epoch 30 of 40 took 26.892s\n",
      "  training loss:       0.227848\n",
      "  validation loss:     0.487707\n",
      "  training accuracy:   98.71 %\n",
      "  validation accuracy: 84.42 %\n"
     ]
    },
    {
     "name": "stderr",
     "output_type": "stream",
     "text": [
      "\n",
      "100it [00:26,  3.79it/s]"
     ]
    },
    {
     "name": "stdout",
     "output_type": "stream",
     "text": [
      "\n",
      "  Epoch 31 of 40 took 27.020s\n",
      "  training loss:       0.224621\n",
      "  validation loss:     0.490056\n",
      "  training accuracy:   98.73 %\n",
      "  validation accuracy: 84.38 %\n"
     ]
    },
    {
     "name": "stderr",
     "output_type": "stream",
     "text": [
      "\n",
      "100it [00:26,  3.77it/s]"
     ]
    },
    {
     "name": "stdout",
     "output_type": "stream",
     "text": [
      "\n",
      "  Epoch 32 of 40 took 26.995s\n",
      "  training loss:       0.218905\n",
      "  validation loss:     0.488314\n",
      "  training accuracy:   98.82 %\n",
      "  validation accuracy: 84.54 %\n"
     ]
    },
    {
     "name": "stderr",
     "output_type": "stream",
     "text": [
      "\n",
      "100it [00:26,  3.81it/s]"
     ]
    },
    {
     "name": "stdout",
     "output_type": "stream",
     "text": [
      "\n",
      "  Epoch 33 of 40 took 26.976s\n",
      "  training loss:       0.219201\n",
      "  validation loss:     0.488742\n",
      "  training accuracy:   98.80 %\n",
      "  validation accuracy: 84.58 %\n"
     ]
    },
    {
     "name": "stderr",
     "output_type": "stream",
     "text": [
      "\n",
      "100it [00:26,  3.77it/s]"
     ]
    },
    {
     "name": "stdout",
     "output_type": "stream",
     "text": [
      "\n",
      "  Epoch 34 of 40 took 26.972s\n",
      "  training loss:       0.218396\n",
      "  validation loss:     0.482264\n",
      "  training accuracy:   98.84 %\n",
      "  validation accuracy: 84.51 %\n"
     ]
    },
    {
     "name": "stderr",
     "output_type": "stream",
     "text": [
      "\n",
      "100it [00:26,  3.66it/s]"
     ]
    },
    {
     "name": "stdout",
     "output_type": "stream",
     "text": [
      "\n",
      "  Epoch 35 of 40 took 26.993s\n",
      "  training loss:       0.213757\n",
      "  validation loss:     0.485328\n",
      "  training accuracy:   98.97 %\n",
      "  validation accuracy: 84.66 %\n"
     ]
    },
    {
     "name": "stderr",
     "output_type": "stream",
     "text": [
      "\n",
      "100it [00:26,  3.72it/s]"
     ]
    },
    {
     "name": "stdout",
     "output_type": "stream",
     "text": [
      "\n",
      "  Epoch 36 of 40 took 27.362s\n",
      "  training loss:       0.216468\n",
      "  validation loss:     0.482741\n",
      "  training accuracy:   98.95 %\n",
      "  validation accuracy: 84.68 %\n"
     ]
    },
    {
     "name": "stderr",
     "output_type": "stream",
     "text": [
      "\n",
      "100it [00:26,  3.81it/s]"
     ]
    },
    {
     "name": "stdout",
     "output_type": "stream",
     "text": [
      "\n",
      "  Epoch 37 of 40 took 27.217s\n",
      "  training loss:       0.209858\n",
      "  validation loss:     0.487955\n",
      "  training accuracy:   98.97 %\n",
      "  validation accuracy: 84.57 %\n"
     ]
    },
    {
     "name": "stderr",
     "output_type": "stream",
     "text": [
      "\n",
      "100it [00:27,  3.77it/s]"
     ]
    },
    {
     "name": "stdout",
     "output_type": "stream",
     "text": [
      "\n",
      "  Epoch 38 of 40 took 27.912s\n",
      "  training loss:       0.210997\n",
      "  validation loss:     0.484565\n",
      "  training accuracy:   99.01 %\n",
      "  validation accuracy: 84.76 %\n"
     ]
    },
    {
     "name": "stderr",
     "output_type": "stream",
     "text": [
      "\n",
      "100it [00:27,  3.79it/s]"
     ]
    },
    {
     "name": "stdout",
     "output_type": "stream",
     "text": [
      "\n",
      "  Epoch 39 of 40 took 27.787s\n",
      "  training loss:       0.206184\n",
      "  validation loss:     0.482615\n",
      "  training accuracy:   99.05 %\n",
      "  validation accuracy: 84.70 %\n"
     ]
    },
    {
     "name": "stderr",
     "output_type": "stream",
     "text": [
      "\n",
      "100it [00:26,  3.72it/s]"
     ]
    },
    {
     "name": "stdout",
     "output_type": "stream",
     "text": [
      "\n",
      "  Epoch 40 of 40 took 27.333s\n",
      "  training loss:       0.207877\n",
      "  validation loss:     0.484416\n",
      "  training accuracy:   99.05 %\n",
      "  validation accuracy: 84.69 %\n"
     ]
    },
    {
     "name": "stderr",
     "output_type": "stream",
     "text": [
      "\n"
     ]
    }
   ],
   "source": [
    "##### train this shit\n",
    "lr = fpX(1e-3)      # initial learning rate for adam\n",
    "l2 = fpX(4.0e-3)       # l2 weight decay\n",
    "\n",
    "niter = 10       # # of iter at starting learning rate\n",
    "perc_decay = 10.0 # # of iter to linearly decay learning rate to zero\n",
    "num_epochs = 40\n",
    "batch_size = 500\n",
    "\n",
    "_lr.set_value(fpX(lr))\n",
    "_l2.set_value(fpX(l2))\n",
    "\n",
    "trn_hist = []\n",
    "val_hist = []\n",
    "\n",
    "for epoch in range(num_epochs):\n",
    "    # In each epoch, we do a full pass over the training data:\n",
    "    trn_err = 0\n",
    "    trn_acc = 0\n",
    "    trn_batches = 0\n",
    "    start_time = time.time()\n",
    "    for xb, yb in tqdm(fwrf.iterate_minibatches(trn_input_data, trn_label_data, batch_size)):\n",
    "        err, acc = cls_trn_fn(xb, yb)\n",
    "        trn_err += err\n",
    "        trn_acc += acc\n",
    "        trn_batches += 1\n",
    "\n",
    "    # And a full pass over the validation data:\n",
    "    val_err = 0\n",
    "    val_acc = 0\n",
    "    val_batches = 0\n",
    "    for xb, yb in fwrf.iterate_minibatches(val_input_data, val_label_data, batch_size):\n",
    "        err, acc = cls_val_fn(xb, yb)\n",
    "        val_err += err\n",
    "        val_acc += acc\n",
    "        val_batches += 1\n",
    "\n",
    "    trn_hist += [trn_acc / trn_batches,]\n",
    "    val_hist += [val_acc / val_batches,]\n",
    "    # Then we print the results for this epoch:\n",
    "    print(\"\\n  Epoch {} of {} took {:.3f}s\".format(epoch + 1, num_epochs, time.time() - start_time))\n",
    "    print(\"  training loss:       {:.6f}\".format(trn_err / trn_batches))\n",
    "    print(\"  validation loss:     {:.6f}\".format(val_err / val_batches))    \n",
    "    print(\"  training accuracy:   {:.2f} %\".format(trn_acc / trn_batches * 100))    \n",
    "    print(\"  validation accuracy: {:.2f} %\".format(val_acc / val_batches * 100))\n",
    "    \n",
    "    if epoch > niter:\n",
    "        _lr.set_value(fpX(_lr.get_value() * (1.0 - perc_decay / 100.0)))     \n",
    "    sys.stdout.flush()"
   ]
  },
  {
   "cell_type": "markdown",
   "metadata": {},
   "source": [
    "# 3) Training results\n",
    "## History"
   ]
  },
  {
   "cell_type": "code",
   "execution_count": 24,
   "metadata": {},
   "outputs": [
    {
     "data": {
      "image/png": "[encoded data removed]",
      "text/plain": [
       "<matplotlib.figure.Figure at 0x7feefc4841d0>"
      ]
     },
     "metadata": {},
     "output_type": "display_data"
    }
   ],
   "source": [
    "plt.figure(figsize=(20,5))\n",
    "plt.plot(trn_hist, 'b', label='trn', lw=2)\n",
    "plt.plot(val_hist, 'r', label='val', lw=2)\n",
    "plt.axhline(1./ny, color='k', linestyle='--', label='chance')\n",
    "plt.xlabel('epoch')\n",
    "plt.ylabel('accuracy')\n",
    "plt.ylim(0.0, 1.0)\n",
    "plt.legend(bbox_to_anchor=(1., 0.3))\n",
    "plt.grid()"
   ]
  },
  {
   "cell_type": "markdown",
   "metadata": {},
   "source": [
    "## First layer filters"
   ]
  },
  {
   "cell_type": "code",
   "execution_count": 85,
   "metadata": {},
   "outputs": [
    {
     "data": {
      "image/png": "[encoded data removed]",
      "text/plain": [
       "<matplotlib.figure.Figure at 0x7f1175630650>"
      ]
     },
     "metadata": {},
     "output_type": "display_data"
    }
   ],
   "source": [
    "plt.figure(figsize=(10,6))\n",
    "plt.imshow(pnu.mosaic_vis(cls_params[0].get_value().transpose(0, 2, 3, 1), pad=1), interpolation='None')\n",
    "plt.gca().get_xaxis().set_visible(False)\n",
    "plt.gca().get_yaxis().set_visible(False)"
   ]
  },
  {
   "cell_type": "markdown",
   "metadata": {},
   "source": [
    "## Partial test accuracy (for future reference)"
   ]
  },
  {
   "cell_type": "code",
   "execution_count": 86,
   "metadata": {},
   "outputs": [
    {
     "name": "stdout",
     "output_type": "stream",
     "text": [
      "Classification accuracy = 0.864000\n"
     ]
    }
   ],
   "source": [
    "sample_size = 500\n",
    "        \n",
    "real_X = val_input_data[:sample_size,...]\n",
    "real_Y = val_label_data[:sample_size,...]\n",
    "\n",
    "inf = cls_pred_fn(real_X)\n",
    "inf_fmaps, inf_Y = inf[:-1], inf[-1]\n",
    "\n",
    "print \"Classification accuracy = %f\" % (np.mean(np.argmax(inf_Y, axis=1)==np.argmax(real_Y, axis=1)))"
   ]
  },
  {
   "cell_type": "markdown",
   "metadata": {},
   "source": [
    "## Save the results"
   ]
  },
  {
   "cell_type": "code",
   "execution_count": 17,
   "metadata": {
    "collapsed": true
   },
   "outputs": [
    {
     "ename": "SyntaxError",
     "evalue": "invalid syntax (<ipython-input-17-b7af32b18515>, line 1)",
     "output_type": "error",
     "traceback": [
      "\u001b[1;36m  File \u001b[1;32m\"<ipython-input-17-b7af32b18515>\"\u001b[1;36m, line \u001b[1;32m1\u001b[0m\n\u001b[1;33m    ***\u001b[0m\n\u001b[1;37m     ^\u001b[0m\n\u001b[1;31mSyntaxError\u001b[0m\u001b[1;31m:\u001b[0m invalid syntax\n"
     ]
    }
   ],
   "source": [
    "cls_param_file_name = \"cifar10-cls-%s-%s.pkl\" % (cls_net_str, timestamp)\n",
    "print cls_param_file_name\n",
    "cls_param_file = open(output_dir + cls_param_file_name, 'wb')\n",
    "cls_param_values = L.get_all_param_values(_cls)\n",
    "pickle.dump(cls_param_values, cls_param_file)\n",
    "cls_param_file.close()"
   ]
  }
 ],
 "metadata": {
  "kernelspec": {
   "display_name": "Python 2",
   "language": "python",
   "name": "python2"
  },
  "language_info": {
   "codemirror_mode": {
    "name": "ipython",
    "version": 2
   },
   "file_extension": ".py",
   "mimetype": "text/x-python",
   "name": "python",
   "nbconvert_exporter": "python",
   "pygments_lexer": "ipython2",
   "version": "2.7.15+"
  }
 },
 "nbformat": 4,
 "nbformat_minor": 1
}
